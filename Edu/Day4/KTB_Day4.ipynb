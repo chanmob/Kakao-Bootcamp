{
  "nbformat": 4,
  "nbformat_minor": 0,
  "metadata": {
    "colab": {
      "provenance": []
    },
    "kernelspec": {
      "name": "python3",
      "display_name": "Python 3"
    },
    "language_info": {
      "name": "python"
    }
  },
  "cells": [
    {
      "cell_type": "markdown",
      "source": [
        "# 파이썬 프로그래밍 II 종합 실습\n",
        "\n",
        "collections 모듈, comprehension, logging, 정규표현식, 멀티스레딩, 멀티프로세싱을 활용합니다.\n",
        "\n"
      ],
      "metadata": {
        "id": "o2A6nokuDOFH"
      }
    },
    {
      "cell_type": "markdown",
      "source": [
        "과제 1: Collections 모듈 활용\n",
        "\n",
        "EXAMPLE_SEQUENCE 값을 활용해보세요.\n",
        "\n",
        "1. Deque: Deque를 생성하고, 요소를 추가하고 제거하는 작업을 해보세요.\n",
        "\n",
        "2. Namedtuple: Namedtuple을 정의하고 인스턴스를 생성해보세요.\n",
        "\n",
        "3. Defaultdict: Defaultdict를 사용해보세요. 키가 없을 때 기본값을 설정하세요.\n",
        "\n",
        "4. Counter: Counter를 사용해 리스트에서 각 요소의 빈도를 세어보세요."
      ],
      "metadata": {
        "id": "wSeIu_4nDSsP"
      }
    },
    {
      "cell_type": "code",
      "execution_count": 7,
      "metadata": {
        "id": "DOHabDfaDMyp",
        "colab": {
          "base_uri": "https://localhost:8080/"
        },
        "outputId": "46b5f7ba-ede3-47a0-d9f7-4515013e5d2f"
      },
      "outputs": [
        {
          "output_type": "stream",
          "name": "stdout",
          "text": [
            "deque(['dog', 'cat', 'mouse', 'parrot', 'frog'])\n",
            "deque(['cat', 'mouse', 'parrot', 'frog'])\n",
            "NamedTuple: Fruit(name='apple', color='red')\n",
            "defaultdict(<class 'int'>, {'dog': 1, 'cat': 1, 'mouse': 1, 'parrot': 1, 'frog': 1})\n",
            "Counter({'dog': 1, 'cat': 1, 'mouse': 1, 'parrot': 1, 'frog': 1})\n"
          ]
        }
      ],
      "source": [
        "EXAMPLE_SEQUENCE = ['dog', 'cat', 'mouse', 'parrot', 'frog']\n",
        "\n",
        "from collections import deque, namedtuple, defaultdict, Counter\n",
        "\n",
        "deque = deque(EXAMPLE_SEQUENCE)\n",
        "print(deque)\n",
        "deque.remove('dog')\n",
        "print(deque)\n",
        "\n",
        "Fruit = namedtuple('Fruit', 'name color')\n",
        "apple = Fruit(name=\"apple\", color=\"red\")\n",
        "print(\"NamedTuple:\", apple)\n",
        "\n",
        "defaultdict = defaultdict(int)\n",
        "for i in EXAMPLE_SEQUENCE:\n",
        "    defaultdict[i] += 1\n",
        "print(defaultdict)\n",
        "\n",
        "counter = Counter(EXAMPLE_SEQUENCE)\n",
        "print(counter)"
      ]
    },
    {
      "cell_type": "markdown",
      "source": [
        "과제 2: Comprehension 활용\n",
        "\n",
        "EXAMPLE_SEQUENCE 값을 활용해보세요.\n",
        "\n",
        "1. 리스트 컴프리헨션: 숫자 리스트의 제곱값을 구하세요.\n",
        "\n",
        "2. 딕셔너리 컴프리헨션: 키가 숫자이고 값이 그 숫자의 제곱인 딕셔너리를 생성하세요.\n",
        "\n",
        "3. 집합 컴프리헨션: 중복된 값을 제거한 제곱값 집합을 생성하세요."
      ],
      "metadata": {
        "id": "VUAClu_dD07F"
      }
    },
    {
      "cell_type": "code",
      "source": [
        "EXAMPLE_SEQUENCE = [1, 4, 12, 9, 22, 5, 1, 9]\n",
        "\n",
        "squared_numbers = [x**2 for x in EXAMPLE_SEQUENCE]\n",
        "squared_dict = {x: x**2 for x in EXAMPLE_SEQUENCE}\n",
        "squared_set = {x**2 for x in EXAMPLE_SEQUENCE}\n",
        "\n",
        "print(squared_numbers)\n",
        "print(squared_dict)\n",
        "print(squared_set)"
      ],
      "metadata": {
        "id": "UXRdE3o0EDwK",
        "colab": {
          "base_uri": "https://localhost:8080/"
        },
        "outputId": "84bf7b2a-9989-472a-e0f4-fca7ab04ee23"
      },
      "execution_count": 8,
      "outputs": [
        {
          "output_type": "stream",
          "name": "stdout",
          "text": [
            "[1, 16, 144, 81, 484, 25, 1, 81]\n",
            "{1: 1, 4: 16, 12: 144, 9: 81, 22: 484, 5: 25}\n",
            "{1, 484, 16, 144, 81, 25}\n"
          ]
        }
      ]
    },
    {
      "cell_type": "markdown",
      "source": [
        "과제 3: Logging 활용\n",
        "\n",
        "1. 기본 로깅 설정: 로깅을 설정하고 정보를 로깅하세요. 로그의 형태는 '시간 - 에러레벨 - 메시지' 입니다.\n",
        "\n",
        "2. 예외 로깅: 예외가 발생했을 때 에러를 로깅하세요."
      ],
      "metadata": {
        "id": "j-42IEV_Ec35"
      }
    },
    {
      "cell_type": "code",
      "source": [
        "import logging\n",
        "\n",
        "logging.basicConfig(level=logging.DEBUG,\n",
        "                    format='%(asctime)s - %(name)s - %(levelname)s - %(message)s')\n",
        "logger = logging.getLogger(__name__)\n",
        "\n",
        "def divide(a, b):\n",
        "    try:\n",
        "        result = a / b\n",
        "        logger.info(\"Division successful\")\n",
        "        return result\n",
        "    except ZeroDivisionError:\n",
        "        logger.error(\"Division by zero error\")\n",
        "        return None\n",
        "\n",
        "print(\"Division successful\\n\", divide(10, 2))\n",
        "print(\"Division by zero error\\n\", divide(10, 0))"
      ],
      "metadata": {
        "id": "Q7jfbpQTEz8N",
        "colab": {
          "base_uri": "https://localhost:8080/"
        },
        "outputId": "79a9cd08-647f-4cc1-db31-722f85faf3a3"
      },
      "execution_count": 9,
      "outputs": [
        {
          "output_type": "stream",
          "name": "stderr",
          "text": [
            "ERROR:__main__:Division by zero error\n"
          ]
        },
        {
          "output_type": "stream",
          "name": "stdout",
          "text": [
            "Division successful\n",
            " 5.0\n",
            "Division by zero error\n",
            " None\n"
          ]
        }
      ]
    },
    {
      "cell_type": "markdown",
      "source": [
        "과제 4: 정규 표현식 사용\n",
        "\n",
        "1. 기본 패턴 매칭: 이메일 주소를 추출하세요.\n",
        "\n",
        "2. 기본 패턴 매칭: 비식별화를 진행하세요. ID를 앞 3글자 이외는 모두 '*'로 변경합니다.\n",
        "\n",
        "3. 고급 패턴 매칭: HTML 태그를 제거하세요."
      ],
      "metadata": {
        "id": "VGcHabOVE4mI"
      }
    },
    {
      "cell_type": "code",
      "source": [
        "email = \"MY name is Jhin, my email is kakaotech@goorm.io\"\n",
        "id_list = [\"jhin.lee\", \"lovelove123\", \"세종대왕만세!!\", \"twin에너지123\", \"PostModern\"]\n",
        "html = \"<p>Hello, <b>World!</b></p>\"\n",
        "\n",
        "import re\n",
        "\n",
        "pattern = r\"\\b[A-Za-z0-9._%+-]+@[A-Za-z0-9.-]+\\.[A-Z|a-z]{2,7}\\b\"\n",
        "matches = re.findall(pattern, email)\n",
        "print(\"이메일:\", matches)\n",
        "\n",
        "pattern = r'(?<=^.{3}).*'\n",
        "id_list = [re.sub(pattern, '*' * (len(id) - 3), id) for id in id_list]\n",
        "print(\"비식별화:\", id_list)\n",
        "\n",
        "pattern = r\"<.*?>\"\n",
        "clean_text = re.sub(pattern, \"\", html)\n",
        "print(\"태그 제거 후 텍스트:\", clean_text)"
      ],
      "metadata": {
        "id": "I-9AqxWWE59J",
        "colab": {
          "base_uri": "https://localhost:8080/"
        },
        "outputId": "ba2cf4e6-522b-4714-9682-7de8c583093b"
      },
      "execution_count": 16,
      "outputs": [
        {
          "output_type": "stream",
          "name": "stdout",
          "text": [
            "이메일: ['kakaotech@goorm.io']\n",
            "비식별화: ['jhi*****', 'lov********', '세종대*****', 'twi*******', 'Pos*******']\n",
            "태그 제거 후 텍스트: Hello, World!\n"
          ]
        }
      ]
    },
    {
      "cell_type": "markdown",
      "source": [
        "과제 5: 멀티스레딩과 멀티프로세싱\n",
        "\n",
        "1. 스레딩: 한 개의 스레드를 생성하고 실행하는 함수를 작성해주세요.\n",
        "\n",
        "2. 멀티스레딩: 두 개의 스레드를 생성하고 실행하세요.\n",
        "\n",
        "3. 멀티프로세싱: 두 개의 프로세스를 생성하고 실행하세요."
      ],
      "metadata": {
        "id": "tOrX28FZFOYA"
      }
    },
    {
      "cell_type": "code",
      "source": [
        "import threading\n",
        "import time\n",
        "\n",
        "A  = 0\n",
        "def print_numbers():\n",
        "    global A\n",
        "    for i in range(5):\n",
        "        print(\"i:\",i)\n",
        "        print(\"공통A: \", A)\n",
        "        A+=1\n",
        "        time.sleep(1)\n",
        "\n",
        "thread1 = threading.Thread(target=print_numbers)\n",
        "thread1.start()\n",
        "thread1.join()"
      ],
      "metadata": {
        "colab": {
          "base_uri": "https://localhost:8080/"
        },
        "id": "L1QFgCwKqgt0",
        "outputId": "4076611f-eafd-4013-fa68-1c3f4f88b91c"
      },
      "execution_count": 18,
      "outputs": [
        {
          "output_type": "stream",
          "name": "stdout",
          "text": [
            "i: 0\n",
            "공통A:  0\n",
            "i: 1\n",
            "공통A:  1\n",
            "i: 2\n",
            "공통A:  2\n",
            "i: 3\n",
            "공통A:  3\n",
            "i: 4\n",
            "공통A:  4\n"
          ]
        }
      ]
    },
    {
      "cell_type": "code",
      "source": [
        "thread1 = threading.Thread(target=print_numbers)\n",
        "thread2 = threading.Thread(target=print_numbers)\n",
        "thread1.start()\n",
        "thread2.start()\n",
        "thread1.join()\n",
        "thread2.join()"
      ],
      "metadata": {
        "id": "6t3JDv6eFOEk",
        "colab": {
          "base_uri": "https://localhost:8080/"
        },
        "outputId": "2dfcae1e-cd1b-4572-f2ac-866fbc443168"
      },
      "execution_count": 19,
      "outputs": [
        {
          "output_type": "stream",
          "name": "stdout",
          "text": [
            "i: 0\n",
            "공통A:  5\n",
            "i: 0\n",
            "공통A:  6\n",
            "i: 1\n",
            "공통A:  7\n",
            "i: 1\n",
            "공통A:  8\n",
            "i: 2\n",
            "공통A:  9\n",
            "i: 2\n",
            "공통A:  10\n",
            "i: 3\n",
            "공통A:  11\n",
            "i: 3\n",
            "공통A:  12\n",
            "i: 4\n",
            "공통A:  13\n",
            "i: 4\n",
            "공통A:  14\n"
          ]
        }
      ]
    },
    {
      "cell_type": "code",
      "source": [
        "import multiprocessing\n",
        "import time\n",
        "\n",
        "\n",
        "A  = 0\n",
        "def print_numbers():\n",
        "    global A\n",
        "    for i in range(5):\n",
        "        print(\"i:\",i)\n",
        "        print(\"공통A: \", A)\n",
        "        A+=1\n",
        "        time.sleep(1)\n",
        "\n",
        "process1 = multiprocessing.Process(target=print_numbers)\n",
        "process2 = multiprocessing.Process(target=print_numbers)\n",
        "process1.start()\n",
        "process2.start()\n",
        "process1.join()\n",
        "process2.join()"
      ],
      "metadata": {
        "colab": {
          "base_uri": "https://localhost:8080/"
        },
        "id": "M_nfH4p8qend",
        "outputId": "1a7d1f26-383d-4d0e-b414-292e26c7916d"
      },
      "execution_count": 20,
      "outputs": [
        {
          "output_type": "stream",
          "name": "stdout",
          "text": [
            "i: 0i:\n",
            "공통A:   00\n",
            "\n",
            "공통A:  0\n",
            "i: 1\n",
            "공통A:  1\n",
            "i: 1\n",
            "공통A:  1\n",
            "i: 2\n",
            "공통A:  2\n",
            "i: 2\n",
            "공통A:  2\n",
            "i: 3\n",
            "공통A:  3\n",
            "i: 3\n",
            "공통A:  3\n",
            "i: 4\n",
            "공통A:  4\n",
            "i: 4\n",
            "공통A:  4\n"
          ]
        }
      ]
    }
  ]
}