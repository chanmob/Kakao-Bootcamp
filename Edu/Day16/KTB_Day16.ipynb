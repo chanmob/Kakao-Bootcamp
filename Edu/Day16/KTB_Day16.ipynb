{
  "nbformat": 4,
  "nbformat_minor": 0,
  "metadata": {
    "colab": {
      "provenance": []
    },
    "kernelspec": {
      "name": "python3",
      "display_name": "Python 3"
    },
    "language_info": {
      "name": "python"
    }
  },
  "cells": [
    {
      "cell_type": "code",
      "execution_count": null,
      "metadata": {
        "id": "LETLmd6huOmx"
      },
      "outputs": [],
      "source": [
        "import torch"
      ]
    },
    {
      "cell_type": "code",
      "source": [
        "x = torch.tensor([1, 2, 3])  # 1D 텐서 생성\n",
        "y = torch.ones(2, 3)         # 모든 값이 1인 2x3 텐서 생성\n",
        "z = torch.zeros(4, 5)        # 모든 값이 0인 4x5 텐서 생성\n",
        "\n",
        "print(\"X: \", x)\n",
        "print(\"Y: \", y)\n",
        "print(\"Z: \", z)"
      ],
      "metadata": {
        "colab": {
          "base_uri": "https://localhost:8080/"
        },
        "id": "2isvzjhzuV-A",
        "outputId": "a4d9936b-872a-4700-fff8-12f54bf2e690"
      },
      "execution_count": null,
      "outputs": [
        {
          "output_type": "stream",
          "name": "stdout",
          "text": [
            "X:  tensor([1, 2, 3])\n",
            "Y:  tensor([[1., 1., 1.],\n",
            "        [1., 1., 1.]])\n",
            "Z:  tensor([[0., 0., 0., 0., 0.],\n",
            "        [0., 0., 0., 0., 0.],\n",
            "        [0., 0., 0., 0., 0.],\n",
            "        [0., 0., 0., 0., 0.]])\n"
          ]
        }
      ]
    },
    {
      "cell_type": "code",
      "source": [
        "# 텐서의 속성\n",
        "print(x.shape)  # 텐서의 형태\n",
        "print(y.size()) # 텐서의 크기\n",
        "print(z.dtype)  # 텐서의 데이터 타입"
      ],
      "metadata": {
        "colab": {
          "base_uri": "https://localhost:8080/"
        },
        "id": "9ynRhHytuV7a",
        "outputId": "35880636-8098-4e45-e3b2-65a1019f68af"
      },
      "execution_count": null,
      "outputs": [
        {
          "output_type": "stream",
          "name": "stdout",
          "text": [
            "torch.Size([3])\n",
            "torch.Size([2, 3])\n",
            "torch.float32\n"
          ]
        }
      ]
    },
    {
      "cell_type": "code",
      "source": [
        "# 기본연산\n",
        "a = torch.tensor([1, 2, 3])\n",
        "b = torch.tensor([4, 5, 6])\n",
        "c = a + b  # 텐서 덧셈\n",
        "d = a * b  # 텐서 곱셈\n",
        "\n",
        "print(\"덧셈 결과:\", c)\n",
        "print(\"곱셈 결과:\", d)"
      ],
      "metadata": {
        "colab": {
          "base_uri": "https://localhost:8080/"
        },
        "id": "hfBGwy_7uVyS",
        "outputId": "bfc4989b-5163-4408-a275-7672dd72b96e"
      },
      "execution_count": null,
      "outputs": [
        {
          "output_type": "stream",
          "name": "stdout",
          "text": [
            "덧셈 결과: tensor([5, 7, 9])\n",
            "곱셈 결과: tensor([ 4, 10, 18])\n"
          ]
        }
      ]
    },
    {
      "cell_type": "code",
      "source": [
        "# 행렬연산\n",
        "A = torch.tensor([[1, 2], [3, 4]])\n",
        "B = torch.tensor([[5, 6], [7, 8]])\n",
        "C = torch.matmul(A, B)  # 행렬 곱셈\n",
        "\n",
        "print(\"행렬 곱셈 결과:\\n\", C)"
      ],
      "metadata": {
        "colab": {
          "base_uri": "https://localhost:8080/"
        },
        "id": "vZ2f4lwZuVvv",
        "outputId": "618761cc-199b-4217-e13a-542dbc067df3"
      },
      "execution_count": null,
      "outputs": [
        {
          "output_type": "stream",
          "name": "stdout",
          "text": [
            "행렬 곱셈 결과:\n",
            " tensor([[19, 22],\n",
            "        [43, 50]])\n"
          ]
        }
      ]
    },
    {
      "cell_type": "code",
      "source": [
        "# 크기가 3x3인 랜덤 텐서 생성\n",
        "x = torch.rand(3, 3)\n",
        "y = torch.rand(3, 3)\n",
        "\n",
        "# 텐서의 합계\n",
        "z = torch.sum(x)\n",
        "print(\"합계:\\n\", z)\n",
        "\n",
        "# 텐서의 최대값과 인덱스\n",
        "z, idx = torch.max(x, dim=0)\n",
        "print(\"최대값:\\n\", z)\n",
        "print(\"최대값 인덱스:\\n\", idx)"
      ],
      "metadata": {
        "colab": {
          "base_uri": "https://localhost:8080/"
        },
        "id": "YEvhSLtq2EHz",
        "outputId": "de3117b7-bfe6-4608-cfb0-0d55a77e5234"
      },
      "execution_count": null,
      "outputs": [
        {
          "output_type": "stream",
          "name": "stdout",
          "text": [
            "합계:\n",
            " tensor(2.7203)\n",
            "최대값:\n",
            " tensor([0.8102, 0.4717, 0.1822])\n",
            "최대값 인덱스:\n",
            " tensor([2, 1, 2])\n"
          ]
        }
      ]
    },
    {
      "cell_type": "code",
      "source": [
        "# 연산의 브로드캐스팅\n",
        "x = torch.tensor([1, 2, 3])\n",
        "y = torch.tensor([[1], [2], [3]])\n",
        "z = x + y  # 브로드캐스팅을 통한 덧셈 연산\n",
        "\n",
        "print(\"덧셈 결과:\\n\", z)\n",
        "print(\"x의 형태:\", x.shape)\n",
        "print(\"y의 형태:\", y.shape)\n",
        "print(\"z의 형태:\", z.shape)"
      ],
      "metadata": {
        "colab": {
          "base_uri": "https://localhost:8080/"
        },
        "id": "Sbh52CTFvwZn",
        "outputId": "594f839f-5e03-44e7-8c9d-0b98c89bdb8c"
      },
      "execution_count": null,
      "outputs": [
        {
          "output_type": "stream",
          "name": "stdout",
          "text": [
            "덧셈 결과:\n",
            " tensor([[2, 3, 4],\n",
            "        [3, 4, 5],\n",
            "        [4, 5, 6]])\n",
            "x의 형태: torch.Size([3])\n",
            "y의 형태: torch.Size([3, 1])\n",
            "z의 형태: torch.Size([3, 3])\n"
          ]
        }
      ]
    },
    {
      "cell_type": "code",
      "source": [
        "# 자동 미분 (Autograd),  autograd 모듈은 역전파를 통해 자동으로 기울기를 계산\n",
        "\n",
        "x = torch.tensor([1.0, 2.0, 3.0], requires_grad=True)\n",
        "y = x + 2\n",
        "z = y * y * 3\n",
        "out = z.mean()\n",
        "\n",
        "out.backward()  # 역전파 수행\n",
        "print(x.grad)   # x에 대한 기울기 출력"
      ],
      "metadata": {
        "colab": {
          "base_uri": "https://localhost:8080/"
        },
        "id": "BO2j390wvwXR",
        "outputId": "4c791121-4914-4085-b6eb-03597829a3cd"
      },
      "execution_count": null,
      "outputs": [
        {
          "output_type": "stream",
          "name": "stdout",
          "text": [
            "tensor([ 6.,  8., 10.])\n"
          ]
        }
      ]
    },
    {
      "cell_type": "code",
      "source": [
        "# requires_grad=True를 설정하여 텐서의 기울기를 계산하도록 지정\n",
        "x = torch.tensor(2.0, requires_grad=True)\n",
        "y = torch.tensor(3.0, requires_grad=True)\n",
        "\n",
        "# 함수 정의\n",
        "z = x * y + y**2\n",
        "\n",
        "# 역전파 수행\n",
        "z.backward()\n",
        "\n",
        "# 기울기 출력\n",
        "print(\"x에 대한 기울기:\", x.grad)\n",
        "print(\"y에 대한 기울기:\", y.grad)"
      ],
      "metadata": {
        "id": "dTohetHK2LXY"
      },
      "execution_count": null,
      "outputs": []
    },
    {
      "cell_type": "code",
      "source": [
        "# 신경망 모듈 (nn.Module),  nn.Module은 신경망의 기본 모듈\n",
        "import torch.nn as nn\n",
        "import torch.nn.functional as F\n",
        "\n",
        "class SimpleNN(nn.Module):\n",
        "    def __init__(self): # 신경망의 계층을 정의하는 부분\n",
        "        super(SimpleNN, self).__init__()\n",
        "        self.fc1 = nn.Linear(784, 128)\n",
        "        self.fc2 = nn.Linear(128, 10)\n",
        "\n",
        "    def forward(self, x): # 순전파를 정의하는 부분으로, 입력 데이터가 신경망을 통과하는 방식을 지정\n",
        "        x = F.relu(self.fc1(x))\n",
        "        x = self.fc2(x)\n",
        "        return x\n",
        "\n",
        "model = SimpleNN()\n",
        "print(model)"
      ],
      "metadata": {
        "colab": {
          "base_uri": "https://localhost:8080/"
        },
        "id": "T3dl8soxvwUr",
        "outputId": "97e146ba-a320-4244-bb1f-7a2429c7a8a5"
      },
      "execution_count": null,
      "outputs": [
        {
          "output_type": "stream",
          "name": "stdout",
          "text": [
            "SimpleNN(\n",
            "  (fc1): Linear(in_features=784, out_features=128, bias=True)\n",
            "  (fc2): Linear(in_features=128, out_features=10, bias=True)\n",
            ")\n"
          ]
        }
      ]
    },
    {
      "cell_type": "code",
      "source": [
        "class CNN(nn.Module):\n",
        "    def __init__(self):\n",
        "        super(CNN, self).__init__()\n",
        "\n",
        "        # 첫 번째 합성곱 층\n",
        "        self.conv1 = nn.Conv2d(in_channels=1, out_channels=32, kernel_size=3, stride=1, padding=1)\n",
        "        self.bn1 = nn.BatchNorm2d(32)  # 배치 정규화\n",
        "        self.pool = nn.MaxPool2d(kernel_size=2, stride=2, padding=0)  # 최대 풀링\n",
        "        self.dropout1 = nn.Dropout(p=0.25)  # 드롭아웃\n",
        "\n",
        "        # 두 번째 합성곱 층\n",
        "        self.conv2 = nn.Conv2d(in_channels=32, out_channels=64, kernel_size=3, stride=1, padding=1)\n",
        "        self.bn2 = nn.BatchNorm2d(64)  # 배치 정규화\n",
        "        self.dropout2 = nn.Dropout(p=0.25)  # 드롭아웃\n",
        "\n",
        "        # 완전 연결 층\n",
        "        self.fc1 = nn.Linear(64 * 7 * 7, 128)\n",
        "        self.bn3 = nn.BatchNorm1d(128)  # 배치 정규화\n",
        "        self.dropout3 = nn.Dropout(p=0.5)  # 드롭아웃\n",
        "        self.fc2 = nn.Linear(128, 10)\n",
        "\n",
        "    def forward(self, x):\n",
        "        x = self.pool(F.relu(self.bn1(self.conv1(x))))\n",
        "        x = self.dropout1(x)\n",
        "        x = self.pool(F.relu(self.bn2(self.conv2(x))))\n",
        "        x = self.dropout2(x)\n",
        "        x = x.view(-1, 64 * 7 * 7)  # 평탄화\n",
        "        x = F.relu(self.bn3(self.fc1(x)))\n",
        "        x = self.dropout3(x)\n",
        "        x = self.fc2(x)\n",
        "        return F.log_softmax(x, dim=1)\n",
        "\n",
        "# 모델 초기화\n",
        "model_cnn = CNN()\n",
        "print(model_cnn)"
      ],
      "metadata": {
        "colab": {
          "base_uri": "https://localhost:8080/"
        },
        "id": "R8tFtCmL02Mg",
        "outputId": "768c6f4b-07d4-4200-a047-b4a1e74d000e"
      },
      "execution_count": null,
      "outputs": [
        {
          "output_type": "stream",
          "name": "stdout",
          "text": [
            "CNN(\n",
            "  (conv1): Conv2d(1, 32, kernel_size=(3, 3), stride=(1, 1), padding=(1, 1))\n",
            "  (bn1): BatchNorm2d(32, eps=1e-05, momentum=0.1, affine=True, track_running_stats=True)\n",
            "  (pool): MaxPool2d(kernel_size=2, stride=2, padding=0, dilation=1, ceil_mode=False)\n",
            "  (dropout1): Dropout(p=0.25, inplace=False)\n",
            "  (conv2): Conv2d(32, 64, kernel_size=(3, 3), stride=(1, 1), padding=(1, 1))\n",
            "  (bn2): BatchNorm2d(64, eps=1e-05, momentum=0.1, affine=True, track_running_stats=True)\n",
            "  (dropout2): Dropout(p=0.25, inplace=False)\n",
            "  (fc1): Linear(in_features=3136, out_features=128, bias=True)\n",
            "  (bn3): BatchNorm1d(128, eps=1e-05, momentum=0.1, affine=True, track_running_stats=True)\n",
            "  (dropout3): Dropout(p=0.5, inplace=False)\n",
            "  (fc2): Linear(in_features=128, out_features=10, bias=True)\n",
            ")\n"
          ]
        }
      ]
    },
    {
      "cell_type": "code",
      "source": [
        "# 데이터 로딩 (Data Loading),  torch.utils.data.Dataset을 상속받아 사용자 정의 데이터셋 클래스 생성\n",
        "from torch.utils.data import Dataset, DataLoader\n",
        "\n",
        "class CustomDataset(Dataset):\n",
        "    def __init__(self, data, labels):\n",
        "        self.data = data\n",
        "        self.labels = labels\n",
        "\n",
        "    def __len__(self):\n",
        "        return len(self.data)\n",
        "\n",
        "    def __getitem__(self, idx):\n",
        "        return self.data[idx], self.labels[idx]\n",
        "\n",
        "dataset = CustomDataset(data, labels)\n",
        "dataloader = DataLoader(dataset, batch_size=32, shuffle=True)"
      ],
      "metadata": {
        "id": "i-u1_Ko5vwSY"
      },
      "execution_count": null,
      "outputs": []
    },
    {
      "cell_type": "code",
      "source": [
        "# 손실 함수 및 옵티마이저 설정\n",
        "criterion = nn.CrossEntropyLoss()\n",
        "optimizer = torch.optim.Adam(model.parameters(), lr=0.001)"
      ],
      "metadata": {
        "id": "6Bjmh_Xlwepx"
      },
      "execution_count": null,
      "outputs": []
    },
    {
      "cell_type": "code",
      "source": [
        "# 학습 루프\n",
        "for epoch in range(num_epochs):\n",
        "    for inputs, labels in dataloader:\n",
        "        optimizer.zero_grad()        # 기울기 초기화\n",
        "        outputs = model(inputs)      # 모델 예측\n",
        "        loss = criterion(outputs, labels)  # 손실 계산\n",
        "        loss.backward()              # 역전파 수행\n",
        "        optimizer.step()             # 가중치 업데이트"
      ],
      "metadata": {
        "id": "2dUAyiLGwenc"
      },
      "execution_count": null,
      "outputs": []
    },
    {
      "cell_type": "code",
      "source": [
        "# 평가 모드 전환\n",
        "model.eval()\n",
        "with torch.no_grad():\n",
        "    for inputs, labels in dataloader:\n",
        "        outputs = model(inputs)\n",
        "        # 평가 코드 작성"
      ],
      "metadata": {
        "id": "vWDBys7JwelG"
      },
      "execution_count": null,
      "outputs": []
    },
    {
      "cell_type": "code",
      "source": [
        "# GPU 사용 (Using GPU), 객체를 GPU로 이동\n",
        "device = torch.device('cuda' if torch.cuda.is_available() else 'cpu')\n",
        "model.to(device)\n",
        "inputs, labels = inputs.to(device), labels.to(device)"
      ],
      "metadata": {
        "id": "5I9Qt-tpwei0"
      },
      "execution_count": null,
      "outputs": []
    }
  ]
}