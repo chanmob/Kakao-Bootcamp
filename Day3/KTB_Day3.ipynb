{
  "nbformat": 4,
  "nbformat_minor": 0,
  "metadata": {
    "colab": {
      "provenance": []
    },
    "kernelspec": {
      "name": "python3",
      "display_name": "Python 3"
    },
    "language_info": {
      "name": "python"
    }
  },
  "cells": [
    {
      "cell_type": "markdown",
      "source": [
        "# 파이썬 프로그래밍 종합 실습\n",
        "기본 문법 복습, 자료형, 함수, 클래스와 객체지향 프로그래밍, 제너레이터와 이터레이터, 파일 입출력, 예외 처리를 종합적으로 활용합니다."
      ],
      "metadata": {
        "id": "zr5LnyrKxjNd"
      }
    },
    {
      "cell_type": "markdown",
      "source": [
        "1. 파이썬 기본 문법 복습 및 자료형\n",
        "\n",
        "문제:\n",
        "\n",
        "사용자로부터 이름, 나이, 이메일을 입력받아 딕셔너리에 저장하는 프로그램을 작성하세요.\n",
        "\n",
        "나이와 이메일의 형식을 검증하고, 잘못된 입력이 있으면 예외 처리를 하세요."
      ],
      "metadata": {
        "id": "MwJQm7MJxvAk"
      }
    },
    {
      "cell_type": "code",
      "execution_count": 11,
      "metadata": {
        "id": "yKTAculHxfMp",
        "colab": {
          "base_uri": "https://localhost:8080/"
        },
        "outputId": "5ffec63b-53cf-45ed-e6f8-7fbe37a4f1e0"
      },
      "outputs": [
        {
          "output_type": "stream",
          "name": "stdout",
          "text": [
            "이름을 입력하세요: 홍길동\n",
            "나이를 입력하세요: 30\n",
            "이메일을 입력하세요: aa@b.b\n",
            "입력 오류: 잘못된 이메일 형식입니다. 올바른 이메일을 입력하세요.\n"
          ]
        }
      ],
      "source": [
        "import re\n",
        "\n",
        "def validate_age(age):\n",
        "    # 나이가 양의 정수인지 확인\n",
        "    if age.isdigit() and int(age) > 0:\n",
        "        return True\n",
        "    return False\n",
        "\n",
        "def validate_email(email):\n",
        "    # 이메일 형식을 정규식으로 확인\n",
        "    pattern = r'^[a-zA-Z0-9._%+-]+@[a-zA-Z0-9.-]+\\.[a-zA-Z]{2,}$'\n",
        "    if re.match(pattern, email):\n",
        "        return True\n",
        "    return False\n",
        "\n",
        "try:\n",
        "    # 사용자로부터 입력받기\n",
        "    name = input(\"이름을 입력하세요: \")\n",
        "    age = input(\"나이를 입력하세요: \")\n",
        "    email = input(\"이메일을 입력하세요: \")\n",
        "\n",
        "    # 나이 검증\n",
        "    if not validate_age(age):\n",
        "        raise ValueError(\"잘못된 나이 입력입니다. 양의 정수를 입력하세요.\")\n",
        "\n",
        "    # 이메일 검증\n",
        "    if not validate_email(email):\n",
        "        raise ValueError(\"잘못된 이메일 형식입니다. 올바른 이메일을 입력하세요.\")\n",
        "\n",
        "    # 입력값을 딕셔너리에 저장\n",
        "    user_info = {\n",
        "        \"name\": name,\n",
        "        \"age\": int(age),  # 나이는 정수형으로 변환\n",
        "        \"email\": email\n",
        "    }\n",
        "\n",
        "    print(\"입력된 사용자 정보:\")\n",
        "    print(user_info)\n",
        "\n",
        "except ValueError as e:\n",
        "    print(f\"입력 오류: {e}\")\n",
        "\n",
        "except Exception as e:\n",
        "    print(f\"예상치 못한 오류가 발생했습니다: {e}\")"
      ]
    },
    {
      "cell_type": "markdown",
      "source": [
        "2. 함수 및 클래스와 객체지향 프로그래밍\n",
        "\n",
        "문제:\n",
        "\n",
        "간단한 계산기 클래스를 작성하세요. 이 클래스는 덧셈, 뺄셈, 곱셈, 나눗셈 메서드를 포함합니다.\n",
        "\n",
        "사용자로부터 두 숫자와 연산자를 입력받아 계산 결과를 출력하는 프로그램을 작성하세요."
      ],
      "metadata": {
        "id": "in-rBALsyK33"
      }
    },
    {
      "cell_type": "code",
      "source": [
        "class Calculator:\n",
        "    def __init__(self):\n",
        "        pass\n",
        "\n",
        "    def add(self, a, b):\n",
        "        return a + b\n",
        "\n",
        "    def subtract(self, a, b):\n",
        "        return a - b\n",
        "\n",
        "    def multiply(self, a, b):\n",
        "        return a * b\n",
        "\n",
        "    def divide(self, a, b):\n",
        "        if b == 0:\n",
        "            raise ValueError(\"0으로 나눌 수 없습니다.\")\n",
        "        return a / b\n",
        "\n",
        "try:\n",
        "    # 사용자로부터 입력받기\n",
        "    a = float(input(\"첫 번째 숫자를 입력하세요: \"))\n",
        "    b = float(input(\"두 번째 숫자를 입력하세요: \"))\n",
        "    operator = input(\"연산자를 입력하세요 (+, -, *, /): \")\n",
        "\n",
        "    # Calculator 클래스의 인스턴스 생성\n",
        "    cal = Calculator()\n",
        "\n",
        "    # 연산자에 따라 적절한 메서드 호출\n",
        "    if operator == '+':\n",
        "        result = cal.add(a, b)\n",
        "    elif operator == '-':\n",
        "        result = cal.subtract(a, b)\n",
        "    elif operator == '*':\n",
        "        result = cal.multiply(a, b)\n",
        "    elif operator == '/':\n",
        "        result = cal.divide(a, b)\n",
        "    else:\n",
        "        raise ValueError(\"잘못된 연산자입니다. +, -, *, / 중에서 선택하세요.\")\n",
        "\n",
        "    print(f\"결과: {result}\")\n",
        "\n",
        "except ValueError as e:\n",
        "    print(f\"입력 오류: {e}\")\n",
        "\n",
        "except Exception as e:\n",
        "    print(f\"예상치 못한 오류가 발생했습니다: {e}\")"
      ],
      "metadata": {
        "id": "v-Yn0ydQyQMO",
        "colab": {
          "base_uri": "https://localhost:8080/"
        },
        "outputId": "03c0af11-d8cd-4a7c-b80f-4d75b1c8fcce"
      },
      "execution_count": 4,
      "outputs": [
        {
          "output_type": "stream",
          "name": "stdout",
          "text": [
            "첫 번째 숫자를 입력하세요: 1\n",
            "두 번째 숫자를 입력하세요: 2\n",
            "연산자를 입력하세요 (+, -, *, /): +\n",
            "결과: 3.0\n"
          ]
        }
      ]
    },
    {
      "cell_type": "markdown",
      "source": [
        "3. 제너레이터와 이터레이터\n",
        "\n",
        "문제:\n",
        "\n",
        "피보나치 수열을 생성하는 제너레이터 함수를 작성하세요.\n",
        "피보나치 수열의 첫 10개 값을 출력하세요."
      ],
      "metadata": {
        "id": "OlDjuxSlyZOi"
      }
    },
    {
      "cell_type": "code",
      "source": [
        "def fibonacci(n):\n",
        "    if n == 1 or n == 2:\n",
        "      return 1\n",
        "    else:\n",
        "      return fibonacci(n-1) + fibonacci(n-2)\n",
        "\n",
        "print(fibonacci(10))"
      ],
      "metadata": {
        "id": "BkI1jD4GydEa",
        "colab": {
          "base_uri": "https://localhost:8080/"
        },
        "outputId": "37cee59e-e272-4b34-90cd-a789bb62cf70"
      },
      "execution_count": 7,
      "outputs": [
        {
          "output_type": "stream",
          "name": "stdout",
          "text": [
            "55\n"
          ]
        }
      ]
    },
    {
      "cell_type": "markdown",
      "source": [
        "4. 파일 입출력\n",
        "\n",
        "문제:\n",
        "\n",
        "사용자로부터 입력받은 데이터를 파일에 저장하고, 파일 내용을 읽어 출력하는 프로그램을 작성하세요.\n",
        "\n",
        "데이터는 JSON 형식으로 저장하세요"
      ],
      "metadata": {
        "id": "O-_Q0pRUycx0"
      }
    },
    {
      "cell_type": "code",
      "source": [
        "import json\n",
        "\n",
        "# 사용자로부터 입력받기\n",
        "name = input(\"이름을 입력하세요: \")\n",
        "age = input(\"나이를 입력하세요: \")\n",
        "\n",
        "# 입력받은 데이터를 딕셔너리에 저장\n",
        "data = {\n",
        "    \"name\": name,\n",
        "    \"age\": age\n",
        "}\n",
        "\n",
        "# 데이터를 JSON 형식으로 파일에 저장\n",
        "with open('user_data.json', 'w') as file:\n",
        "    json.dump(data, file, indent=4)\n",
        "\n",
        "# 파일 내용을 읽어 출력\n",
        "with open('user_data.json', 'r') as file:\n",
        "    loaded_data = json.load(file)\n",
        "    print(\"파일에서 읽은 데이터:\")\n",
        "    print(json.dumps(loaded_data, indent=4))"
      ],
      "metadata": {
        "id": "nyLTxXTHyqKE",
        "colab": {
          "base_uri": "https://localhost:8080/"
        },
        "outputId": "af0a21e2-5923-4321-d44b-6da1e2324ebb"
      },
      "execution_count": 8,
      "outputs": [
        {
          "output_type": "stream",
          "name": "stdout",
          "text": [
            "이름을 입력하세요: 홍길동\n",
            "나이를 입력하세요: 30\n",
            "파일에서 읽은 데이터:\n",
            "{\n",
            "    \"name\": \"\\ud64d\\uae38\\ub3d9\",\n",
            "    \"age\": \"30\"\n",
            "}\n"
          ]
        }
      ]
    },
    {
      "cell_type": "markdown",
      "source": [
        "5. Database 연동\n",
        "\n",
        "문제:\n",
        "\n",
        "SQLite 데이터베이스에 사용자 정보를 저장하고, 저장된 데이터를 조회하여 출력하는 프로그램을 작성하세요.\n",
        "\n",
        "테이블은 users로 하고, id, name, age, email 컬럼을 포함합니다."
      ],
      "metadata": {
        "id": "snEMYElhy3Q3"
      }
    },
    {
      "cell_type": "code",
      "source": [
        "import sqlite3\n",
        "\n",
        "# SQLite 데이터베이스에 연결\n",
        "connection = sqlite3.connect('user_data.db')\n",
        "cursor = connection.cursor()\n",
        "\n",
        "# users 테이블 생성\n",
        "cursor.execute('''\n",
        "CREATE TABLE IF NOT EXISTS users (\n",
        "    id INTEGER PRIMARY KEY AUTOINCREMENT,\n",
        "    name TEXT NOT NULL,\n",
        "    age INTEGER NOT NULL,\n",
        "    email TEXT NOT NULL\n",
        ")\n",
        "''')\n",
        "\n",
        "# 사용자로부터 입력받기\n",
        "name = input(\"이름을 입력하세요: \")\n",
        "age = int(input(\"나이를 입력하세요: \"))\n",
        "email = input(\"이메일을 입력하세요: \")\n",
        "\n",
        "# 입력받은 데이터를 users 테이블에 삽입\n",
        "cursor.execute('''\n",
        "INSERT INTO users (name, age, email)\n",
        "VALUES (?, ?, ?)\n",
        "''', (name, age, email))\n",
        "\n",
        "# 데이터베이스에 변경사항 저장\n",
        "connection.commit()\n",
        "\n",
        "# users 테이블의 모든 데이터를 조회하여 출력\n",
        "cursor.execute('SELECT * FROM users')\n",
        "rows = cursor.fetchall()\n",
        "\n",
        "print(\"저장된 사용자 정보:\")\n",
        "for row in rows:\n",
        "    print(f\"id: {row[0]}, name: {row[1]}, age: {row[2]}, email: {row[3]}\")\n",
        "\n",
        "# 연결 종료\n",
        "connection.close()"
      ],
      "metadata": {
        "id": "d8BgUC0ky6_b",
        "colab": {
          "base_uri": "https://localhost:8080/"
        },
        "outputId": "064b571d-b35f-4de2-917e-aa76b740669d"
      },
      "execution_count": 9,
      "outputs": [
        {
          "output_type": "stream",
          "name": "stdout",
          "text": [
            "이름을 입력하세요: 홍길동\n",
            "나이를 입력하세요: 30\n",
            "이메일을 입력하세요: aa@b.b\n",
            "저장된 사용자 정보:\n",
            "id: 1, name: 홍길동, age: 30, email: aa@b.b\n"
          ]
        }
      ]
    },
    {
      "cell_type": "markdown",
      "source": [
        "6. 예외 처리\n",
        "\n",
        "문제:\n",
        "\n",
        "사용자로부터 숫자를 입력받아, 그 숫자를 10으로 나누는 프로그램을 작성하세요.\n",
        "\n",
        "0으로 나누는 경우와 숫자가 아닌 값을 입력받는 경우를 처리하세요."
      ],
      "metadata": {
        "id": "qFd9nMWdzMaw"
      }
    },
    {
      "cell_type": "code",
      "source": [
        "try:\n",
        "    # 사용자로부터 숫자 입력받기\n",
        "    num = float(input(\"숫자를 입력하세요: \"))\n",
        "\n",
        "    # 10으로 나누기\n",
        "    result = num / 10\n",
        "\n",
        "    # 결과 출력\n",
        "    print(f\"입력한 숫자를 10으로 나눈 값: {result}\")\n",
        "\n",
        "except ValueError:\n",
        "    # 숫자가 아닌 값을 입력받은 경우\n",
        "    print(\"잘못된 입력입니다. 숫자를 입력하세요.\")\n",
        "\n",
        "except ZeroDivisionError:\n",
        "    # 0으로 나누는 경우\n",
        "    print(\"0으로 나눌 수 없습니다.\")"
      ],
      "metadata": {
        "id": "B_0S33jOzPDJ",
        "colab": {
          "base_uri": "https://localhost:8080/"
        },
        "outputId": "988b9c03-9b92-4ad1-f46e-d0bbfc018289"
      },
      "execution_count": 10,
      "outputs": [
        {
          "output_type": "stream",
          "name": "stdout",
          "text": [
            "숫자를 입력하세요: 10\n",
            "입력한 숫자를 10으로 나눈 값: 1.0\n"
          ]
        }
      ]
    }
  ]
}