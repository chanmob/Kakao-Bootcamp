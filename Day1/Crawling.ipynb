{
  "nbformat": 4,
  "nbformat_minor": 0,
  "metadata": {
    "colab": {
      "provenance": []
    },
    "kernelspec": {
      "name": "python3",
      "display_name": "Python 3"
    },
    "language_info": {
      "name": "python"
    }
  },
  "cells": [
    {
      "cell_type": "code",
      "execution_count": 1,
      "metadata": {
        "colab": {
          "base_uri": "https://localhost:8080/"
        },
        "id": "i1RUAXFUHQ-3",
        "outputId": "242e11b7-dbba-4dd9-d3aa-141878601614"
      },
      "outputs": [
        {
          "output_type": "stream",
          "name": "stdout",
          "text": [
            "Top 1 : 객체 간 관계성 인지용 한국형 비전 데이터\n",
            "Top 2 : 손∙팔 협조에 의한 파지-조작 동작 데이터\n",
            "Top 3 : 상용 자율주행차 야간 자동차 전용도로 데이터\n"
          ]
        }
      ],
      "source": [
        "# 스크래핑\n",
        "import requests\n",
        "from bs4 import BeautifulSoup\n",
        "\n",
        "# AI Hub URL\n",
        "url = 'https://www.aihub.or.kr/'\n",
        "\n",
        "# 페이지 요청, 요청 성공 확인\n",
        "response = requests.get(url)\n",
        "response.raise_for_status()\n",
        "\n",
        "# BeautifulSoup 객체 생성\n",
        "soup = BeautifulSoup(response.content, 'html.parser')\n",
        "\n",
        "# 인기 데이터 Top 3\n",
        "top3 = soup.find('div', class_ = 'secR')\n",
        "\n",
        "# 데이터 항목\n",
        "data_list = top3.find_all('div', class_ = 'list')\n",
        "\n",
        "# 데이터 제목\n",
        "titles = []\n",
        "for data in data_list:\n",
        "  title = data.find('h3').get_text(strip = True)\n",
        "  clean_title = title.split(']')[-1].strip()\n",
        "  titles.append(clean_title)\n",
        "\n",
        "for idx, title in enumerate(titles, start = 1):\n",
        "  print(f\"Top {idx} : {title}\")"
      ]
    },
    {
      "cell_type": "code",
      "source": [
        "# 페이지 요청\n",
        "url = 'https://ko.wikipedia.org/wiki/위키백과:대문'\n",
        "response = requests.get(url)\n",
        "\n",
        "# 요청 확인\n",
        "if response.status_code == 200:\n",
        "    # BeautifulSoup 객체 생성\n",
        "    soup = BeautifulSoup(response.content, 'html.parser')\n",
        "\n",
        "    # 페이지 제목 추출\n",
        "    title = soup.find('h1', id='firstHeading').text\n",
        "    print(f\"Title : {title}\")\n",
        "\n",
        "    # 첫 번째 단락 추출\n",
        "    first_paragraph = soup.find('p').text\n",
        "    print(f\"First paragraph : {first_paragraph}\")\n",
        "else:\n",
        "    print(f\"Failed to retrieve the web page. Status code : {response.status_code}\")"
      ],
      "metadata": {
        "id": "HHeBJBw2Ha3G",
        "colab": {
          "base_uri": "https://localhost:8080/"
        },
        "outputId": "61f1f7f0-beef-4c4f-81da-8c3bc2e1756e"
      },
      "execution_count": 2,
      "outputs": [
        {
          "output_type": "stream",
          "name": "stdout",
          "text": [
            "Title : 위키백과:대문\n",
            "First paragraph :  위키백과\n",
            "\n"
          ]
        }
      ]
    },
    {
      "cell_type": "code",
      "source": [
        "!pip install selenium"
      ],
      "metadata": {
        "id": "xICCiFXrHwas",
        "colab": {
          "base_uri": "https://localhost:8080/"
        },
        "outputId": "51bc4cb0-afe1-4a3b-ef05-85106fb0d753"
      },
      "execution_count": 3,
      "outputs": [
        {
          "output_type": "stream",
          "name": "stdout",
          "text": [
            "Collecting selenium\n",
            "  Downloading selenium-4.22.0-py3-none-any.whl (9.4 MB)\n",
            "\u001b[2K     \u001b[90m━━━━━━━━━━━━━━━━━━━━━━━━━━━━━━━━━━━━━━━━\u001b[0m \u001b[32m9.4/9.4 MB\u001b[0m \u001b[31m43.0 MB/s\u001b[0m eta \u001b[36m0:00:00\u001b[0m\n",
            "\u001b[?25hRequirement already satisfied: urllib3[socks]<3,>=1.26 in /usr/local/lib/python3.10/dist-packages (from selenium) (2.0.7)\n",
            "Collecting trio~=0.17 (from selenium)\n",
            "  Downloading trio-0.25.1-py3-none-any.whl (467 kB)\n",
            "\u001b[2K     \u001b[90m━━━━━━━━━━━━━━━━━━━━━━━━━━━━━━━━━━━━━━━━\u001b[0m \u001b[32m467.7/467.7 kB\u001b[0m \u001b[31m24.7 MB/s\u001b[0m eta \u001b[36m0:00:00\u001b[0m\n",
            "\u001b[?25hCollecting trio-websocket~=0.9 (from selenium)\n",
            "  Downloading trio_websocket-0.11.1-py3-none-any.whl (17 kB)\n",
            "Requirement already satisfied: certifi>=2021.10.8 in /usr/local/lib/python3.10/dist-packages (from selenium) (2024.6.2)\n",
            "Requirement already satisfied: typing_extensions>=4.9.0 in /usr/local/lib/python3.10/dist-packages (from selenium) (4.12.2)\n",
            "Requirement already satisfied: websocket-client>=1.8.0 in /usr/local/lib/python3.10/dist-packages (from selenium) (1.8.0)\n",
            "Requirement already satisfied: attrs>=23.2.0 in /usr/local/lib/python3.10/dist-packages (from trio~=0.17->selenium) (23.2.0)\n",
            "Requirement already satisfied: sortedcontainers in /usr/local/lib/python3.10/dist-packages (from trio~=0.17->selenium) (2.4.0)\n",
            "Requirement already satisfied: idna in /usr/local/lib/python3.10/dist-packages (from trio~=0.17->selenium) (3.7)\n",
            "Collecting outcome (from trio~=0.17->selenium)\n",
            "  Downloading outcome-1.3.0.post0-py2.py3-none-any.whl (10 kB)\n",
            "Requirement already satisfied: sniffio>=1.3.0 in /usr/local/lib/python3.10/dist-packages (from trio~=0.17->selenium) (1.3.1)\n",
            "Requirement already satisfied: exceptiongroup in /usr/local/lib/python3.10/dist-packages (from trio~=0.17->selenium) (1.2.1)\n",
            "Collecting wsproto>=0.14 (from trio-websocket~=0.9->selenium)\n",
            "  Downloading wsproto-1.2.0-py3-none-any.whl (24 kB)\n",
            "Requirement already satisfied: pysocks!=1.5.7,<2.0,>=1.5.6 in /usr/local/lib/python3.10/dist-packages (from urllib3[socks]<3,>=1.26->selenium) (1.7.1)\n",
            "Collecting h11<1,>=0.9.0 (from wsproto>=0.14->trio-websocket~=0.9->selenium)\n",
            "  Downloading h11-0.14.0-py3-none-any.whl (58 kB)\n",
            "\u001b[2K     \u001b[90m━━━━━━━━━━━━━━━━━━━━━━━━━━━━━━━━━━━━━━━━\u001b[0m \u001b[32m58.3/58.3 kB\u001b[0m \u001b[31m5.6 MB/s\u001b[0m eta \u001b[36m0:00:00\u001b[0m\n",
            "\u001b[?25hInstalling collected packages: outcome, h11, wsproto, trio, trio-websocket, selenium\n",
            "Successfully installed h11-0.14.0 outcome-1.3.0.post0 selenium-4.22.0 trio-0.25.1 trio-websocket-0.11.1 wsproto-1.2.0\n"
          ]
        }
      ]
    },
    {
      "cell_type": "code",
      "source": [
        "from selenium import webdriver\n",
        "from selenium.webdriver.common.by import By\n",
        "\n",
        "# URL\n",
        "URL = \"https://ko.wikipedia.org/wiki/위키백과:대문\"\n",
        "\n",
        "# Chrome 옵션 설정 (브라우저 창 X)\n",
        "options = webdriver.ChromeOptions()\n",
        "options.add_argument(\"--headless\")\n",
        "options.add_argument('--disable-dev-shm-usage')\n",
        "options.add_argument(\"--no-sandbox\")\n",
        "\n",
        "# 웹 드라이버 설정\n",
        "driver = webdriver.Chrome(options=options)\n",
        "\n",
        "try:\n",
        "    # 위키백과 대문 페이지 열기\n",
        "    driver.get(URL)\n",
        "\n",
        "    # \"우리 모두가 만들어가는 자유 백과사전\"과 \"문서 이하 내용\" 추출\n",
        "    main_content = driver.find_element(By.CSS_SELECTOR, \"#mw-content-text > div.mw-content-ltr.mw-parser-output > div.main-box.main-top > div > p:nth-child(2)\").text\n",
        "    print(\"Main Content : \", main_content)\n",
        "finally:\n",
        "    # 웹 드라이버 종료\n",
        "    driver.quit()"
      ],
      "metadata": {
        "colab": {
          "base_uri": "https://localhost:8080/"
        },
        "id": "brJYeQQ1tzPy",
        "outputId": "e20ee4d0-53e2-4d60-e259-c90d294e553a"
      },
      "execution_count": 4,
      "outputs": [
        {
          "output_type": "stream",
          "name": "stdout",
          "text": [
            "Main Content :  우리 모두가 만들어가는 자유 백과사전\n",
            "문서 674,592개와 최근 기여자 1,814명\n"
          ]
        }
      ]
    }
  ]
}